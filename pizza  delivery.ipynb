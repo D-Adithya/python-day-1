{
 "cells": [
  {
   "cell_type": "code",
   "execution_count": null,
   "id": "b1288628",
   "metadata": {},
   "outputs": [],
   "source": [
    "size=input(\"enter the size of pizzza you want?S,M or L:\")\n",
    "add_pep=input(\"want extra peproni ? enter yes or no\")\n",
    "add_che=input(\"want extra cheese?enter yes or no\")\n",
    "if size=='small':\n",
    "    bill=10\n",
    "    if add_pep=='Y':\n",
    "        if add_che=='Y':\n",
    "            bill=bill+4\n",
    "            print(\"total cost is\",bill,\"$\")\n",
    "        else:\n",
    "            bill=bill+3\n",
    "            print(\"total cost is\",bill,\"$\")\n",
    "    else:\n",
    "        bill\n",
    "        print(\"total cost is\",bill,\"$\")\n",
    "if size=='medium':\n",
    "    bill=20\n",
    "    if add_pep=='Y':\n",
    "        if add_che=='Y':\n",
    "            bill=bill+4\n",
    "            print(\"total cost is\",bill,\"$\")\n",
    "        else:\n",
    "            bill=bill+3\n",
    "            print(\"total cost is\",bill,\"$\")\n",
    "    else:\n",
    "        bill\n",
    "        print(\"total cost is\",bill,\"$\")\n",
    "if size=='large':\n",
    "    bill=30\n",
    "    if add_pep=='Y':\n",
    "        if add_che=='Y':\n",
    "            bill=bill+4\n",
    "            print(\"total cost is\",bill,\"$\")\n",
    "        else:\n",
    "            bill=bill+3\n",
    "            print(\"total cost is\",bill,\"$\")\n",
    "    else:\n",
    "        bill\n",
    "        print(\"total cost is\",bill,\"$\")"
   ]
  },
  {
   "cell_type": "code",
   "execution_count": null,
   "id": "325655cc",
   "metadata": {},
   "outputs": [],
   "source": []
  }
 ],
 "metadata": {
  "kernelspec": {
   "display_name": "Python 3 (ipykernel)",
   "language": "python",
   "name": "python3"
  },
  "language_info": {
   "codemirror_mode": {
    "name": "ipython",
    "version": 3
   },
   "file_extension": ".py",
   "mimetype": "text/x-python",
   "name": "python",
   "nbconvert_exporter": "python",
   "pygments_lexer": "ipython3",
   "version": "3.10.9"
  }
 },
 "nbformat": 4,
 "nbformat_minor": 5
}
