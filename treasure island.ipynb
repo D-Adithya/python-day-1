{
 "cells": [
  {
   "cell_type": "code",
   "execution_count": 5,
   "id": "df42db3b",
   "metadata": {},
   "outputs": [
    {
     "name": "stdout",
     "output_type": "stream",
     "text": [
      "WELCOME TO THE TREASURE ISLAND!!! \n",
      "lets begin the game\n",
      "\n",
      "you are at a cross road where do you want to go?\n",
      "left or right:right\n",
      "\n",
      "***********************!!!!!!!!!!!!!!!!!!!!!!!!!!*********************\n",
      "\n",
      "sorry! you chose the wrong side\n",
      "better luck next time!!\n",
      "game over\n"
     ]
    }
   ],
   "source": [
    "print(\"WELCOME TO THE TREASURE ISLAND!!! \")\n",
    "print(\"lets begin the game\")\n",
    "print(\"\\nyou are at a cross road where do you want to go?\")\n",
    "choice=input(\"left or right:\")\n",
    "if choice ==\"left\":\n",
    "    print(\"you reached the river! you want to  wait for the boat or going to swim across the river?\")\n",
    "    now=input(\"wait or swim\")\n",
    "    if now==\"wait\":\n",
    "        print(\"\\n***********************!!!!!!!!!!!!!!!!!!!!!!!!!!*********************\\n\")\n",
    "        print(\"on waiting, you reached the next shore using boat\")\n",
    "        print(\"on the shore there arrives a house with three doors with different colors\")\n",
    "        color=input(\"which color are you going to choose? red/blue/yellow:\")\n",
    "        if color==\"blue\":\n",
    "            print(\"\\n***********************!!!!!!!!!!!!!!!!!!!!!!!!!!*********************\\n\")\n",
    "            print(\"you successively reached the treasure!\")\n",
    "            print(\"**congratulations**\")\n",
    "        else:\n",
    "            print(\"\\n***********************!!!!!!!!!!!!!!!!!!!!!!!!!!*********************\\n\")\n",
    "            print(\"sorry!you chose the wrong door\")\n",
    "            print(\"better luck next time!!\")\n",
    "            print(\"game over\")\n",
    "    else:\n",
    "        print(\"\\n***********************!!!!!!!!!!!!!!!!!!!!!!!!!!*********************\\n\")\n",
    "        print(\"sorry! on swimming you have been killed by the sharks\")\n",
    "        print(\"better luck next time!!\")\n",
    "        print(\"game over\")\n",
    "else:\n",
    "    print(\"\\n***********************!!!!!!!!!!!!!!!!!!!!!!!!!!*********************\\n\")\n",
    "    print(\"sorry! you chose the wrong side\")\n",
    "    print(\"better luck next time!!\")\n",
    "    print(\"game over\")\n",
    "    \n",
    "            \n"
   ]
  },
  {
   "cell_type": "code",
   "execution_count": null,
   "id": "997130c0",
   "metadata": {},
   "outputs": [],
   "source": []
  }
 ],
 "metadata": {
  "kernelspec": {
   "display_name": "Python 3 (ipykernel)",
   "language": "python",
   "name": "python3"
  },
  "language_info": {
   "codemirror_mode": {
    "name": "ipython",
    "version": 3
   },
   "file_extension": ".py",
   "mimetype": "text/x-python",
   "name": "python",
   "nbconvert_exporter": "python",
   "pygments_lexer": "ipython3",
   "version": "3.10.9"
  }
 },
 "nbformat": 4,
 "nbformat_minor": 5
}
