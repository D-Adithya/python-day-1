{
 "cells": [
  {
   "cell_type": "code",
   "execution_count": 2,
   "id": "c62095e7",
   "metadata": {},
   "outputs": [
    {
     "name": "stdout",
     "output_type": "stream",
     "text": [
      "enter year:2003\n",
      "it is not a leap  year\n"
     ]
    }
   ],
   "source": [
    "year=int(input(\"enter year:\"))\n",
    "if year%4==0:\n",
    "    if year%100==0:\n",
    "        if year%400==0:\n",
    "            print(\"it is a leap year\")\n",
    "        else:\n",
    "            print(\"it is not a leap year\")\n",
    "    else:\n",
    "        print(\"it is a leap year\")\n",
    "else:\n",
    "    print(\"it is not a leap  year\")"
   ]
  },
  {
   "cell_type": "code",
   "execution_count": null,
   "id": "df42db3b",
   "metadata": {},
   "outputs": [],
   "source": []
  }
 ],
 "metadata": {
  "kernelspec": {
   "display_name": "Python 3 (ipykernel)",
   "language": "python",
   "name": "python3"
  },
  "language_info": {
   "codemirror_mode": {
    "name": "ipython",
    "version": 3
   },
   "file_extension": ".py",
   "mimetype": "text/x-python",
   "name": "python",
   "nbconvert_exporter": "python",
   "pygments_lexer": "ipython3",
   "version": "3.10.9"
  }
 },
 "nbformat": 4,
 "nbformat_minor": 5
}
