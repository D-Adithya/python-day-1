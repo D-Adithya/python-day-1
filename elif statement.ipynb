{
 "cells": [
  {
   "cell_type": "code",
   "execution_count": 2,
   "id": "be2619bc",
   "metadata": {},
   "outputs": [
    {
     "name": "stdout",
     "output_type": "stream",
     "text": [
      "Enter your height:112\n",
      "you are not supposed to ride \n"
     ]
    }
   ],
   "source": [
    "height=int(input(\"Enter your height:\"))\n",
    "if height>120:\n",
    "    age=int(input(\"enter your age:\"))\n",
    "    if age<12:\n",
    "        print(\"cost of your ticket is 50$\")\n",
    "    elif age>12 and age<=18 :\n",
    "        print(\"cost of your ticket is 70$\")\n",
    "    else:\n",
    "        print(\"cost of your ticket is 100$\")\n",
    "else:\n",
    "    print(\"you are not supposed to ride \")\n",
    "        "
   ]
  },
  {
   "cell_type": "code",
   "execution_count": null,
   "id": "506b6aee",
   "metadata": {},
   "outputs": [],
   "source": []
  }
 ],
 "metadata": {
  "kernelspec": {
   "display_name": "Python 3 (ipykernel)",
   "language": "python",
   "name": "python3"
  },
  "language_info": {
   "codemirror_mode": {
    "name": "ipython",
    "version": 3
   },
   "file_extension": ".py",
   "mimetype": "text/x-python",
   "name": "python",
   "nbconvert_exporter": "python",
   "pygments_lexer": "ipython3",
   "version": "3.10.9"
  }
 },
 "nbformat": 4,
 "nbformat_minor": 5
}
