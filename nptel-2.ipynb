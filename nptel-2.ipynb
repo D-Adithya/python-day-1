{
 "cells": [
  {
   "cell_type": "code",
   "execution_count": 7,
   "id": "12310a84",
   "metadata": {},
   "outputs": [
    {
     "name": "stdout",
     "output_type": "stream",
     "text": [
      "[4 5 6]\n"
     ]
    }
   ],
   "source": [
    "import numpy as np\n",
    "arr = np.array([[[1, 2, 3], [4, 5, 6], [7, 8, 9]]])\n",
    "print(arr[0][1])"
   ]
  },
  {
   "cell_type": "code",
   "execution_count": 11,
   "id": "4f6ce29d",
   "metadata": {},
   "outputs": [
    {
     "data": {
      "text/plain": [
       "[1, 2, 3, 4]"
      ]
     },
     "execution_count": 11,
     "metadata": {},
     "output_type": "execute_result"
    }
   ],
   "source": [
    "s={1,2,4,5}\n",
    "l=[]\n",
    "for i in range(len(s)):\n",
    "    l+=[1+i]\n",
    "l"
   ]
  },
  {
   "cell_type": "code",
   "execution_count": 12,
   "id": "82ab7013",
   "metadata": {},
   "outputs": [
    {
     "name": "stdout",
     "output_type": "stream",
     "text": [
      "[[ 0  1  2  3  4]\n",
      " [ 5  6  7  8  9]\n",
      " [10 11 12 13 14]]\n"
     ]
    }
   ],
   "source": [
    "arr=np.array(np.arange(0,15))\n",
    "print(arr.reshape(3,5))"
   ]
  },
  {
   "cell_type": "code",
   "execution_count": 19,
   "id": "cbb1e882",
   "metadata": {},
   "outputs": [
    {
     "name": "stdout",
     "output_type": "stream",
     "text": [
      "my friend's house is in chennai\n"
     ]
    }
   ],
   "source": [
    "place=\"chennai\"\n",
    "print(\"my friend's house is in {}\".format(place))"
   ]
  },
  {
   "cell_type": "code",
   "execution_count": 24,
   "id": "2337e4bd",
   "metadata": {},
   "outputs": [],
   "source": [
    "t1=(1,2,\"a\",4)\n",
    "t2=(5,6,7)\n",
    "t3=(t1,t2)t3=(list(t1), list(t2))"
   ]
  },
  {
   "cell_type": "code",
   "execution_count": 28,
   "id": "24388e79",
   "metadata": {},
   "outputs": [
    {
     "ename": "AttributeError",
     "evalue": "'tuple' object has no attribute 'append'",
     "output_type": "error",
     "traceback": [
      "\u001b[1;31m---------------------------------------------------------------------------\u001b[0m",
      "\u001b[1;31mAttributeError\u001b[0m                            Traceback (most recent call last)",
      "Cell \u001b[1;32mIn[28], line 1\u001b[0m\n\u001b[1;32m----> 1\u001b[0m \u001b[43mt1\u001b[49m\u001b[38;5;241;43m.\u001b[39;49m\u001b[43mappend\u001b[49m(\u001b[38;5;241m5\u001b[39m)\n",
      "\u001b[1;31mAttributeError\u001b[0m: 'tuple' object has no attribute 'append'"
     ]
    }
   ],
   "source": [
    "t1.append(5)\n"
   ]
  },
  {
   "cell_type": "code",
   "execution_count": 30,
   "id": "19207ee8",
   "metadata": {},
   "outputs": [],
   "source": [
    " d={1:\"Pyhton\",2:[1,2,3]}"
   ]
  },
  {
   "cell_type": "code",
   "execution_count": 32,
   "id": "66f1292e",
   "metadata": {},
   "outputs": [],
   "source": [
    "d[2].append(4)"
   ]
  },
  {
   "cell_type": "code",
   "execution_count": 35,
   "id": "18d6e128",
   "metadata": {},
   "outputs": [],
   "source": [
    "d[\"one\"]=1"
   ]
  },
  {
   "cell_type": "code",
   "execution_count": 38,
   "id": "66d7fbdd",
   "metadata": {},
   "outputs": [],
   "source": [
    "d.update({\"one\" : 2})"
   ]
  },
  {
   "cell_type": "code",
   "execution_count": 39,
   "id": "ea6b6c59",
   "metadata": {},
   "outputs": [
    {
     "data": {
      "text/plain": [
       "{1: 'Pyhton', 2: [1, 2, 3, 4], 'one': 2}"
      ]
     },
     "execution_count": 39,
     "metadata": {},
     "output_type": "execute_result"
    }
   ],
   "source": [
    "d"
   ]
  },
  {
   "cell_type": "code",
   "execution_count": 45,
   "id": "7adb32b1",
   "metadata": {},
   "outputs": [],
   "source": [
    "student = {\"name\": \"Jane\", \"age\": 25, \"courses\": [\"Math\", \"Statistics\"]}"
   ]
  },
  {
   "cell_type": "code",
   "execution_count": 48,
   "id": "149a7a44",
   "metadata": {},
   "outputs": [],
   "source": [
    "student.update({\"age\" : 26, \"phone\": \"123-456\"})"
   ]
  },
  {
   "cell_type": "code",
   "execution_count": 49,
   "id": "cadf1346",
   "metadata": {},
   "outputs": [
    {
     "data": {
      "text/plain": [
       "{'name': 'Jane',\n",
       " 'age': 26,\n",
       " 'courses': ['Math', 'Statistics'],\n",
       " 'phone': '123-456'}"
      ]
     },
     "execution_count": 49,
     "metadata": {},
     "output_type": "execute_result"
    }
   ],
   "source": [
    "student"
   ]
  },
  {
   "cell_type": "code",
   "execution_count": 51,
   "id": "e9c9cf34",
   "metadata": {},
   "outputs": [
    {
     "name": "stdout",
     "output_type": "stream",
     "text": [
      "['M', 'A', 'H', 'E', 'S', 'H']\n"
     ]
    }
   ],
   "source": [
    "name=\"Mahesh\"\n",
    "l=[]\n",
    "for i in name:\n",
    "    l.append(i.capitalize())\n",
    "print(l)"
   ]
  },
  {
   "cell_type": "code",
   "execution_count": null,
   "id": "40033a61",
   "metadata": {},
   "outputs": [],
   "source": []
  }
 ],
 "metadata": {
  "kernelspec": {
   "display_name": "Python 3 (ipykernel)",
   "language": "python",
   "name": "python3"
  },
  "language_info": {
   "codemirror_mode": {
    "name": "ipython",
    "version": 3
   },
   "file_extension": ".py",
   "mimetype": "text/x-python",
   "name": "python",
   "nbconvert_exporter": "python",
   "pygments_lexer": "ipython3",
   "version": "3.10.9"
  }
 },
 "nbformat": 4,
 "nbformat_minor": 5
}
