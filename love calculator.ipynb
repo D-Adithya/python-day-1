{
 "cells": [
  {
   "cell_type": "code",
   "execution_count": 2,
   "id": "c62095e7",
   "metadata": {},
   "outputs": [
    {
     "name": "stdout",
     "output_type": "stream",
     "text": [
      "enter your name:dhilip\n",
      "enter your loves name:harshini\n",
      "11 %\n",
      "there is no way!!she could love you!!\n",
      "you are going to be single forever\n"
     ]
    }
   ],
   "source": [
    "name1=input(\"enter your name:\")\n",
    "name2=input(\"enter your loves name:\")\n",
    "name3=name1+name2\n",
    "t=name3.count(\"t\")\n",
    "r=name3.count(\"r\")\n",
    "u=name3.count(\"u\")\n",
    "e=name3.count(\"e\")\n",
    "true=t+r+u+e\n",
    "l=name3.count(\"l\")\n",
    "o=name3.count(\"o\")\n",
    "v=name3.count(\"v\")\n",
    "e=name3.count(\"e\")\n",
    "love=l+o+v+e\n",
    "percentage=str(true)+str(love)\n",
    "percentage=int(percentage)\n",
    "print(percentage,\"%\")\n",
    "\n",
    "if percentage<=20:\n",
    "    print(\"there is no way!!she could love you!!\\nyou are going to be single forever\")\n",
    "elif percentage>20 and percentage<60:\n",
    "    print(\"try hard! one day she may like you\")\n",
    "else:\n",
    "    print(\"you are lucky!you are going to be together\")\n"
   ]
  },
  {
   "cell_type": "code",
   "execution_count": null,
   "id": "df42db3b",
   "metadata": {},
   "outputs": [],
   "source": []
  }
 ],
 "metadata": {
  "kernelspec": {
   "display_name": "Python 3 (ipykernel)",
   "language": "python",
   "name": "python3"
  },
  "language_info": {
   "codemirror_mode": {
    "name": "ipython",
    "version": 3
   },
   "file_extension": ".py",
   "mimetype": "text/x-python",
   "name": "python",
   "nbconvert_exporter": "python",
   "pygments_lexer": "ipython3",
   "version": "3.10.9"
  }
 },
 "nbformat": 4,
 "nbformat_minor": 5
}
