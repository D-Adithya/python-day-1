{
 "cells": [
  {
   "cell_type": "code",
   "execution_count": 11,
   "id": "be2619bc",
   "metadata": {},
   "outputs": [
    {
     "name": "stdout",
     "output_type": "stream",
     "text": [
      "enter your height in metres:1.6\n",
      "enter your weight in kg:100\n",
      "39\n",
      "your BMI is 39 and you are clinnically obesse\n"
     ]
    }
   ],
   "source": [
    "height=float(input(\"enter your height in metres:\"))\n",
    "weight=int(input(\"enter your weight in kg:\"))\n",
    "BMI=round(weight/height**2)\n",
    "print(BMI)\n",
    "if BMI<=18.5:\n",
    "    print(\"your BMI is\",BMI,\"and you are under weight\")\n",
    "elif BMI>18.5 and BMI<=25:\n",
    "    print(\"your BMI is\",BMI,\"and you are normal weight\")\n",
    "elif BMI>25 and BMI<=30:\n",
    "    print(\"your BMI is\",BMI,\"and you are over weight\")\n",
    "elif BMI>30 and BMI<=35:\n",
    "    print(\"your BMI is\",BMI,\"and you are obesse\")\n",
    "else:\n",
    "    print(\"your BMI is\",BMI,\"and you are clinnically obesse\")"
   ]
  },
  {
   "cell_type": "code",
   "execution_count": null,
   "id": "87f02aa5",
   "metadata": {},
   "outputs": [],
   "source": []
  }
 ],
 "metadata": {
  "kernelspec": {
   "display_name": "Python 3 (ipykernel)",
   "language": "python",
   "name": "python3"
  },
  "language_info": {
   "codemirror_mode": {
    "name": "ipython",
    "version": 3
   },
   "file_extension": ".py",
   "mimetype": "text/x-python",
   "name": "python",
   "nbconvert_exporter": "python",
   "pygments_lexer": "ipython3",
   "version": "3.10.9"
  }
 },
 "nbformat": 4,
 "nbformat_minor": 5
}
